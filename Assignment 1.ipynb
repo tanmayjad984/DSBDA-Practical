{
 "cells": [
  {
   "cell_type": "code",
   "execution_count": 1,
   "id": "a0eaf7fb",
   "metadata": {},
   "outputs": [],
   "source": [
    "# Tanmay Vijay Jadhav (20121040)"
   ]
  },
  {
   "cell_type": "code",
   "execution_count": 2,
   "id": "93e93095",
   "metadata": {},
   "outputs": [
    {
     "name": "stdout",
     "output_type": "stream",
     "text": [
      "['RollNo', 'Marks']\n",
      "[['1', '89'], ['2', '78'], ['3', '85'], ['4', '92'], ['5', '70'], ['6', '88']]\n"
     ]
    }
   ],
   "source": [
    "import csv\n",
    "file = open(\"C:\\\\Users\\\\Acer\\\\Desktop\\\\Jupyter Projects\\\\Assignment 1 DS\\\\RollNo_Marks.csv\")\n",
    "csvreader = csv.reader(file)\n",
    "header = next(csvreader)\n",
    "print(header)\n",
    "rows = []\n",
    "for row in csvreader:\n",
    "    rows.append(row)\n",
    "print(rows)\n",
    "file.close()"
   ]
  },
  {
   "cell_type": "markdown",
   "id": "f9f9b76a",
   "metadata": {},
   "source": []
  },
  {
   "cell_type": "code",
   "execution_count": 5,
   "id": "ae653a94",
   "metadata": {},
   "outputs": [
    {
     "name": "stdout",
     "output_type": "stream",
     "text": [
      "['RollNo', 'Marks']\n",
      "[['1', '89'], ['2', '78'], ['3', '85'], ['4', '92'], ['5', '70'], ['6', '88']]\n"
     ]
    }
   ],
   "source": [
    "import csv\n",
    "rows = []\n",
    "with open(\"C:\\\\Users\\\\Acer\\\\Desktop\\\\Jupyter Projects\\\\Assignment 1 DS\\\\RollNo_Marks.csv\") as file:\n",
    "    csvreader = csv.reader(file)\n",
    "    header = next(csvreader)\n",
    "    for row in csvreader:\n",
    "        rows.append(row)\n",
    "print(header)\n",
    "print(rows)\n",
    "file.close()\n"
   ]
  },
  {
   "cell_type": "code",
   "execution_count": 1,
   "id": "d9d99f32",
   "metadata": {},
   "outputs": [
    {
     "data": {
      "text/plain": [
       "Index(['RollNo', 'Marks'], dtype='object')"
      ]
     },
     "execution_count": 1,
     "metadata": {},
     "output_type": "execute_result"
    }
   ],
   "source": [
    "import pandas as pd\n",
    "data= pd.read_csv(\"C:\\\\Users\\\\Acer\\\\Desktop\\\\Jupyter Projects\\\\Assignment 1 DS\\\\RollNo_Marks.csv\")\n",
    "data.columns"
   ]
  },
  {
   "cell_type": "code",
   "execution_count": 2,
   "id": "c61fdc7a",
   "metadata": {},
   "outputs": [
    {
     "data": {
      "text/plain": [
       "0    1\n",
       "1    2\n",
       "2    3\n",
       "3    4\n",
       "4    5\n",
       "5    6\n",
       "Name: RollNo, dtype: int64"
      ]
     },
     "execution_count": 2,
     "metadata": {},
     "output_type": "execute_result"
    }
   ],
   "source": [
    "import pandas as pd\n",
    "data= pd.read_csv(\"C:\\\\Users\\\\Acer\\\\Desktop\\\\Jupyter Projects\\\\Assignment 1 DS\\\\RollNo_Marks.csv\")\n",
    "data.RollNo\n"
   ]
  },
  {
   "cell_type": "code",
   "execution_count": 3,
   "id": "89b2fa40",
   "metadata": {},
   "outputs": [
    {
     "data": {
      "text/plain": [
       "0    89\n",
       "1    78\n",
       "2    85\n",
       "3    92\n",
       "4    70\n",
       "5    88\n",
       "Name: Marks, dtype: int64"
      ]
     },
     "execution_count": 3,
     "metadata": {},
     "output_type": "execute_result"
    }
   ],
   "source": [
    "import pandas as pd\n",
    "data= pd.read_csv(\"C:\\\\Users\\\\Acer\\\\Desktop\\\\Jupyter Projects\\\\Assignment 1 DS\\\\RollNo_Marks.csv\")\n",
    "data.Marks"
   ]
  },
  {
   "cell_type": "code",
   "execution_count": 22,
   "id": "b9cd6808",
   "metadata": {},
   "outputs": [],
   "source": [
    "header = ['Name', 'Age', 'Salary']\n",
    "data = [['Tanmay', 32, 80000], ['Sanket', 21, 30600], ['Chinmay', 54, 98000]]\n",
    "filename = 'Salary.csv'\n",
    "with open(filename, 'w', newline=\"\") as file:\n",
    "    csvwriter = csv.writer(file)            \n",
    "    csvwriter.writerow(header)         \n",
    "    csvwriter.writerows(data)        "
   ]
  },
  {
   "cell_type": "code",
   "execution_count": 14,
   "id": "dd90587c",
   "metadata": {},
   "outputs": [],
   "source": [
    "header = ['Name', 'M1 Score', 'M2 Score']\n",
    "data = [['Alex', 62, 80], ['Brad', 45, 56], ['Joey', 85, 98]]\n",
    "data = pd.DataFrame(data, columns=header)\n",
    "data.to_csv('Stu_data.csv', index=False)"
   ]
  },
  {
   "cell_type": "code",
   "execution_count": null,
   "id": "af8ee41f",
   "metadata": {
    "scrolled": true
   },
   "outputs": [],
   "source": []
  },
  {
   "cell_type": "code",
   "execution_count": 29,
   "id": "b2716109",
   "metadata": {
    "scrolled": true
   },
   "outputs": [],
   "source": [
    "header = ['Name', 'M1 Score', 'M2 Score']\n",
    "data = [['Alex', 62, 80], ['Brad', 45, 56], ['Joey', 85, 98]]\n",
    "data = pd.DataFrame(data, columns=header)\n",
    "data.to_csv('Stu_data.csv', index=False)"
   ]
  },
  {
   "cell_type": "code",
   "execution_count": 31,
   "id": "cd61e4ae",
   "metadata": {},
   "outputs": [
    {
     "data": {
      "text/html": [
       "<div>\n",
       "<style scoped>\n",
       "    .dataframe tbody tr th:only-of-type {\n",
       "        vertical-align: middle;\n",
       "    }\n",
       "\n",
       "    .dataframe tbody tr th {\n",
       "        vertical-align: top;\n",
       "    }\n",
       "\n",
       "    .dataframe thead th {\n",
       "        text-align: right;\n",
       "    }\n",
       "</style>\n",
       "<table border=\"1\" class=\"dataframe\">\n",
       "  <thead>\n",
       "    <tr style=\"text-align: right;\">\n",
       "      <th></th>\n",
       "      <th>Name</th>\n",
       "      <th>M1 Score</th>\n",
       "      <th>M2 Score</th>\n",
       "    </tr>\n",
       "  </thead>\n",
       "  <tbody>\n",
       "    <tr>\n",
       "      <th>0</th>\n",
       "      <td>False</td>\n",
       "      <td>False</td>\n",
       "      <td>False</td>\n",
       "    </tr>\n",
       "    <tr>\n",
       "      <th>1</th>\n",
       "      <td>False</td>\n",
       "      <td>False</td>\n",
       "      <td>False</td>\n",
       "    </tr>\n",
       "    <tr>\n",
       "      <th>2</th>\n",
       "      <td>False</td>\n",
       "      <td>False</td>\n",
       "      <td>False</td>\n",
       "    </tr>\n",
       "  </tbody>\n",
       "</table>\n",
       "</div>"
      ],
      "text/plain": [
       "    Name  M1 Score  M2 Score\n",
       "0  False     False     False\n",
       "1  False     False     False\n",
       "2  False     False     False"
      ]
     },
     "execution_count": 31,
     "metadata": {},
     "output_type": "execute_result"
    }
   ],
   "source": [
    "data.isnull()"
   ]
  },
  {
   "cell_type": "code",
   "execution_count": 33,
   "id": "a716a3e1",
   "metadata": {},
   "outputs": [
    {
     "data": {
      "text/plain": [
       "Name        0\n",
       "M1 Score    0\n",
       "M2 Score    0\n",
       "dtype: int64"
      ]
     },
     "execution_count": 33,
     "metadata": {},
     "output_type": "execute_result"
    }
   ],
   "source": [
    "header = ['Name', 'M1 Score', 'M2 Score']\n",
    "data = [['Alex', 62, 80], ['Brad', 45, 56], ['Joey', 85, 98]]\n",
    "data = pd.DataFrame(data, columns=header)\n",
    "data.to_csv('Stu_data.csv',index=False)\n",
    "data.isnull().sum()"
   ]
  },
  {
   "cell_type": "code",
   "execution_count": 35,
   "id": "af3bdd69",
   "metadata": {},
   "outputs": [
    {
     "name": "stdout",
     "output_type": "stream",
     "text": [
      "    set_of_number\n",
      "0             1.0\n",
      "1            23.0\n",
      "2             4.0\n",
      "3             5.0\n",
      "4             NaN\n",
      "5             6.0\n",
      "6             7.0\n",
      "7             NaN\n",
      "8             NaN\n",
      "9             8.0\n",
      "10            9.0\n",
      "11           10.0\n",
      "12            NaN\n"
     ]
    }
   ],
   "source": [
    "import pandas as pd\n",
    "import numpy as np\n",
    "data = {'set_of_number': [1,23,4,5,np.nan,6,7,np.nan,np.nan,8,9,10,np.nan]}\n",
    "df= pd.DataFrame(data)\n",
    "print(df)"
   ]
  },
  {
   "cell_type": "code",
   "execution_count": 36,
   "id": "3a875a51",
   "metadata": {},
   "outputs": [
    {
     "name": "stdout",
     "output_type": "stream",
     "text": [
      "            Product   Price\n",
      "0  Desktop Computer   700.0\n",
      "1            Tablet     NaN\n",
      "2               NaN   500.0\n",
      "3            Laptop  1200.0\n"
     ]
    }
   ],
   "source": [
    "import pandas as pd\n",
    "df = pd.read_csv('Product.csv')\n",
    "print(df)"
   ]
  },
  {
   "cell_type": "code",
   "execution_count": 10,
   "id": "ebc4b485",
   "metadata": {},
   "outputs": [
    {
     "name": "stdout",
     "output_type": "stream",
     "text": [
      "   first_set second_set third_set\n",
      "0        1.0          a        aa\n",
      "1        2.0          b       NaN\n",
      "2        3.0        NaN        bb\n",
      "3        4.0        NaN        cc\n",
      "4        5.0          c       NaN\n",
      "5        NaN          d       NaN\n",
      "6        6.0          e        dd\n",
      "7        7.0        NaN       NaN\n",
      "8        NaN        NaN       NaN\n",
      "9        NaN          f        ee\n"
     ]
    }
   ],
   "source": [
    "import pandas as pd\n",
    "import numpy as np\n",
    "data ={\n",
    "    'first_set': [1,2,3,4,5,np.nan,6,7,np.nan,np.nan],\n",
    "    'second_set': ['a','b',np.nan,np.nan,'c','d','e',np.nan,np.nan,'f'],\n",
    "    'third_set': ['aa',np.nan,'bb','cc',np.nan,np.nan,'dd',np.nan,np.nan,'ee']}\n",
    "\n",
    "df= pd.DataFrame(data,columns=['first_set','second_set','third_set'])\n",
    "print(df)"
   ]
  },
  {
   "cell_type": "code",
   "execution_count": 8,
   "id": "009831a3",
   "metadata": {},
   "outputs": [
    {
     "name": "stdout",
     "output_type": "stream",
     "text": [
      "count of NaN: 3\n"
     ]
    }
   ],
   "source": [
    "import pandas as pd\n",
    "import numpy as np\n",
    "data ={\n",
    "    'first_set': [1,2,3,4,5,np.nan,6,7,np.nan,np.nan],\n",
    "    'second_set': ['a','b',np.nan,np.nan,'c','d','e',np.nan,np.nan,'f'],\n",
    "    'third_set': ['aa',np.nan,'bb','cc',np.nan,np.nan,'dd',np.nan,np.nan,'ee']\n",
    "}\n",
    "\n",
    "df= pd.DataFrame(data,columns=['first_set','second_set','third_set'])\n",
    "count_nan =df['first_set'].isna().sum()\n",
    "print('count of NaN: ' +str(count_nan))"
   ]
  },
  {
   "cell_type": "code",
   "execution_count": 11,
   "id": "25b8499d",
   "metadata": {},
   "outputs": [
    {
     "name": "stdout",
     "output_type": "stream",
     "text": [
      "Count of NaN: 2\n"
     ]
    }
   ],
   "source": [
    "import pandas as pd\n",
    "import numpy as np\n",
    "data ={\n",
    "    'first_set': [1,2,3,4,5,np.nan,6,7,np.nan,np.nan],\n",
    "    'second_set': ['a','b',np.nan,np.nan,'c','d','e',np.nan,np.nan,'f'],\n",
    "    'third_set': ['aa',np.nan,'bb','cc',np.nan,np.nan,'dd',np.nan,np.nan,'ee']\n",
    "}\n",
    "\n",
    "df= pd.DataFrame(data,columns=['first_set','second_set','third_set'])\n",
    "\n",
    "count_nan =df.loc[[7]].isna().sum().sum()\n",
    "\n",
    "print('Count of NaN: '+str(count_nan))"
   ]
  },
  {
   "cell_type": "code",
   "execution_count": 12,
   "id": "82992049",
   "metadata": {},
   "outputs": [
    {
     "name": "stdout",
     "output_type": "stream",
     "text": [
      "Count of NaN: 12\n"
     ]
    }
   ],
   "source": [
    "import pandas as pd\n",
    "import numpy as np\n",
    "data ={\n",
    "    'first_set': [1,2,3,4,5,np.nan,6,7,np.nan,np.nan],\n",
    "    'second_set': ['a','b',np.nan,np.nan,'c','d','e',np.nan,np.nan,'f'],\n",
    "    'third_set': ['aa',np.nan,'bb','cc',np.nan,np.nan,'dd',np.nan,np.nan,'ee']\n",
    "}\n",
    "\n",
    "df= pd.DataFrame(data,columns=['first_set','second_set','third_set'])\n",
    "\n",
    "count_nan =df.isna().sum().sum()\n",
    "\n",
    "print('Count of NaN: '+str(count_nan))"
   ]
  },
  {
   "cell_type": "code",
   "execution_count": 8,
   "id": "8f37ee92",
   "metadata": {},
   "outputs": [
    {
     "name": "stdout",
     "output_type": "stream",
     "text": [
      "   Color      Shape\n",
      "0  Green  Rectangle\n",
      "1  Green  Rectangle\n",
      "2  Green     Square\n",
      "3   Blue  Rectangle\n",
      "4   Blue     Square\n",
      "5    Red     Square\n",
      "6    Red     Square\n",
      "7    Red  Rectangle\n"
     ]
    }
   ],
   "source": [
    "import pandas as pd\n",
    "boxes ={\n",
    "        'Color' :['Green','Green','Green','Blue','Blue','Red','Red','Red'],\n",
    "        'Shape': ['Rectangle','Rectangle','Square','Rectangle','Square','Square','Square','Rectangle']\n",
    "       }\n",
    "\n",
    "df= pd.DataFrame(boxes, columns = ['Color','Shape'])\n",
    "print(df)\n"
   ]
  },
  {
   "cell_type": "code",
   "execution_count": 12,
   "id": "6f6ac818",
   "metadata": {},
   "outputs": [
    {
     "name": "stdout",
     "output_type": "stream",
     "text": [
      "   Color      Shape\n",
      "0  Green  Rectangle\n",
      "2  Green     Square\n",
      "3   Blue  Rectangle\n",
      "4   Blue     Square\n",
      "5    Red     Square\n",
      "7    Red  Rectangle\n"
     ]
    }
   ],
   "source": [
    "import pandas as pd\n",
    "boxes ={\n",
    "        'Color' :['Green','Green','Green','Blue','Blue','Red','Red','Red'],\n",
    "        'Shape': ['Rectangle','Rectangle','Square','Rectangle','Square','Square','Square','Rectangle']\n",
    "       }\n",
    "\n",
    "df= pd.DataFrame(boxes, columns = ['Color','Shape'])\n",
    "df_duplicates_removed = df.drop_duplicates()\n",
    "print(df_duplicates_removed)"
   ]
  },
  {
   "cell_type": "code",
   "execution_count": 13,
   "id": "16d5268d",
   "metadata": {},
   "outputs": [
    {
     "name": "stdout",
     "output_type": "stream",
     "text": [
      "   Color      Shape\n",
      "0  Green  Rectangle\n",
      "3   Blue  Rectangle\n",
      "5    Red     Square\n"
     ]
    }
   ],
   "source": [
    "import pandas as pd\n",
    "boxes ={\n",
    "        'Color' :['Green','Green','Green','Blue','Blue','Red','Red','Red'],\n",
    "        'Shape': ['Rectangle','Rectangle','Square','Rectangle','Square','Square','Square','Rectangle']\n",
    "       }\n",
    "\n",
    "df= pd.DataFrame(boxes, columns = ['Color','Shape'])\n",
    "df_duplicates_removed = df.drop_duplicates(subset=['Color'])\n",
    "print(df_duplicates_removed)"
   ]
  },
  {
   "cell_type": "code",
   "execution_count": 14,
   "id": "26d54464",
   "metadata": {},
   "outputs": [
    {
     "name": "stdout",
     "output_type": "stream",
     "text": [
      "   Color      Shape\n",
      "0  Green  Rectangle\n",
      "2  Green     Square\n"
     ]
    }
   ],
   "source": [
    "import pandas as pd\n",
    "boxes ={\n",
    "        'Color' :['Green','Green','Green','Blue','Blue','Red','Red','Red'],\n",
    "        'Shape': ['Rectangle','Rectangle','Square','Rectangle','Square','Square','Square','Rectangle']\n",
    "       }\n",
    "\n",
    "df= pd.DataFrame(boxes, columns = ['Color','Shape'])\n",
    "df_duplicates_removed = df.drop_duplicates(subset=['Shape'])\n",
    "print(df_duplicates_removed)"
   ]
  },
  {
   "cell_type": "code",
   "execution_count": 20,
   "id": "8c04e7f7",
   "metadata": {},
   "outputs": [
    {
     "name": "stdout",
     "output_type": "stream",
     "text": [
      "  product  price  year\n",
      "0       A  22000  2014\n",
      "1       B  27000  2015\n",
      "2       C  25000  2016\n",
      "3       C  29000  2017\n",
      "4       D  35000  2018\n"
     ]
    }
   ],
   "source": [
    "import pandas as pd\n",
    "\n",
    "data= {\n",
    "    'product': ['A','B','C','C','D'],\n",
    "    'price': [22000,27000,25000,29000,35000],\n",
    "    'year':[2014,2015,2016,2017,2018]\n",
    "}\n",
    "    \n",
    "df= pd.DataFrame(data)\n",
    "print(df)\n"
   ]
  },
  {
   "cell_type": "code",
   "execution_count": 21,
   "id": "e738d1f7",
   "metadata": {},
   "outputs": [
    {
     "name": "stdout",
     "output_type": "stream",
     "text": [
      "count        5.000000\n",
      "mean     27600.000000\n",
      "std       4878.524367\n",
      "min      22000.000000\n",
      "25%      25000.000000\n",
      "50%      27000.000000\n",
      "75%      29000.000000\n",
      "max      35000.000000\n",
      "Name: price, dtype: float64\n"
     ]
    }
   ],
   "source": [
    "import pandas as pd\n",
    "\n",
    "data= {\n",
    "    'product': ['A','B','C','C','D'],\n",
    "    'price': [22000,27000,25000,29000,35000],\n",
    "    'year':[2014,2015,2016,2017,2018]\n",
    "}\n",
    "    \n",
    "df= pd.DataFrame(data)\n",
    "stats_numeric =df['price'].describe()\n",
    "print(stats_numeric)"
   ]
  },
  {
   "cell_type": "code",
   "execution_count": 22,
   "id": "1aa5813a",
   "metadata": {},
   "outputs": [
    {
     "name": "stdout",
     "output_type": "stream",
     "text": [
      "count        5\n",
      "mean     27600\n",
      "std       4878\n",
      "min      22000\n",
      "25%      25000\n",
      "50%      27000\n",
      "75%      29000\n",
      "max      35000\n",
      "Name: price, dtype: int32\n"
     ]
    }
   ],
   "source": [
    "import pandas as pd\n",
    "\n",
    "data= {\n",
    "    'product': ['A','B','C','C','D'],\n",
    "    'price': [22000,27000,25000,29000,35000],\n",
    "    'year':[2014,2015,2016,2017,2018]\n",
    "}\n",
    "    \n",
    "df= pd.DataFrame(data)\n",
    "stats_numeric =df['price'].describe().astype(int)\n",
    "print(stats_numeric)"
   ]
  },
  {
   "cell_type": "code",
   "execution_count": 25,
   "id": "78ed700f",
   "metadata": {},
   "outputs": [
    {
     "name": "stdout",
     "output_type": "stream",
     "text": [
      "count     5\n",
      "unique    4\n",
      "top       C\n",
      "freq      2\n",
      "Name: product, dtype: object\n"
     ]
    }
   ],
   "source": [
    "import pandas as pd\n",
    "\n",
    "data= {\n",
    "    'product': ['A','B','C','C','D'],\n",
    "    'price': [22000,27000,25000,29000,35000],\n",
    "    'year':[2014,2015,2016,2017,2018]\n",
    "}\n",
    "    \n",
    "df= pd.DataFrame(data)\n",
    "stats_category =df['product'].describe()\n",
    "print(stats_category)"
   ]
  },
  {
   "cell_type": "code",
   "execution_count": 34,
   "id": "6965c85c",
   "metadata": {},
   "outputs": [
    {
     "name": "stdout",
     "output_type": "stream",
     "text": [
      "       product         price         year\n",
      "count        5      5.000000     5.000000\n",
      "unique       4           NaN          NaN\n",
      "top          C           NaN          NaN\n",
      "freq         2           NaN          NaN\n",
      "mean       NaN  27600.000000  2016.000000\n",
      "std        NaN   4878.524367     1.581139\n",
      "min        NaN  22000.000000  2014.000000\n",
      "25%        NaN  25000.000000  2015.000000\n",
      "50%        NaN  27000.000000  2016.000000\n",
      "75%        NaN  29000.000000  2017.000000\n",
      "max        NaN  35000.000000  2018.000000\n"
     ]
    }
   ],
   "source": [
    "import pandas as pd\n",
    "\n",
    "data= {\n",
    "    'product': ['A','B','C','C','D'],\n",
    "    'price': [22000,27000,25000,29000,35000],\n",
    "    'year':[2014,2015,2016,2017,2018]\n",
    "}\n",
    "    \n",
    "df= pd.DataFrame(data)\n",
    "stats =df.describe(include='all')\n",
    "print(stats)"
   ]
  },
  {
   "cell_type": "code",
   "execution_count": null,
   "id": "367b81a2",
   "metadata": {},
   "outputs": [],
   "source": []
  }
 ],
 "metadata": {
  "kernelspec": {
   "display_name": "Python 3 (ipykernel)",
   "language": "python",
   "name": "python3"
  },
  "language_info": {
   "codemirror_mode": {
    "name": "ipython",
    "version": 3
   },
   "file_extension": ".py",
   "mimetype": "text/x-python",
   "name": "python",
   "nbconvert_exporter": "python",
   "pygments_lexer": "ipython3",
   "version": "3.11.2"
  }
 },
 "nbformat": 4,
 "nbformat_minor": 5
}
